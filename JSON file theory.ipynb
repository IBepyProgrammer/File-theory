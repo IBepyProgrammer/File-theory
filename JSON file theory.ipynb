{
 "cells": [
  {
   "cell_type": "markdown",
   "id": "779259a4",
   "metadata": {},
   "source": [
    "## We will first begin by importing the JSON module"
   ]
  },
  {
   "cell_type": "code",
   "execution_count": 1,
   "id": "45037df7",
   "metadata": {},
   "outputs": [],
   "source": [
    "import json"
   ]
  },
  {
   "cell_type": "markdown",
   "id": "e1bbe510",
   "metadata": {},
   "source": [
    "* Let us then proceed by creating a dictionary that will be converted into a json formatted string."
   ]
  },
  {
   "cell_type": "code",
   "execution_count": 3,
   "id": "e910067f",
   "metadata": {},
   "outputs": [],
   "source": [
    "school = {\n",
    "    \"school_of\": \"Science_Technology\",\n",
    "    \"faculty\": \"Applied_science\",\n",
    "    \"departments\": {\n",
    "        \"physics\": \"Optics\",\n",
    "        \"chemistry\": \"industrial_chemistry\"\n",
    "    },\n",
    "    \"years\":[\n",
    "        \"freshman\",\n",
    "        \"sophomore\",\n",
    "        \"junior\",\n",
    "        \"senior\"\n",
    "    ],\n",
    "    \"numbers\":[1,2,3,4],\n",
    "    \"id\":[123,234,456,566]\n",
    "}"
   ]
  },
  {
   "cell_type": "code",
   "execution_count": 6,
   "id": "c8347e18",
   "metadata": {},
   "outputs": [],
   "source": [
    "json.dump(school, open(\"university.json\", \"w\"))"
   ]
  },
  {
   "cell_type": "markdown",
   "id": "2bc34e62",
   "metadata": {},
   "source": [
    "## We can then load the json file using the \"load\" function in the json module."
   ]
  },
  {
   "cell_type": "code",
   "execution_count": 10,
   "id": "5ec0d98c",
   "metadata": {},
   "outputs": [],
   "source": [
    "read_school = json.load(open(\"university.json\", \"r\"))"
   ]
  },
  {
   "cell_type": "code",
   "execution_count": 11,
   "id": "88204b51",
   "metadata": {},
   "outputs": [
    {
     "name": "stdout",
     "output_type": "stream",
     "text": [
      "{'school_of': 'Science_Technology', 'faculty': 'Applied_science', 'departments': {'physics': 'Optics', 'chemistry': 'industrial_chemistry'}, 'years': ['freshman', 'sophomore', 'junior', 'senior'], 'numbers': [1, 2, 3, 4], 'id': [123, 234, 456, 566]}\n"
     ]
    }
   ],
   "source": [
    "print(read_school)"
   ]
  }
 ],
 "metadata": {
  "kernelspec": {
   "display_name": "Python 3 (ipykernel)",
   "language": "python",
   "name": "python3"
  },
  "language_info": {
   "codemirror_mode": {
    "name": "ipython",
    "version": 3
   },
   "file_extension": ".py",
   "mimetype": "text/x-python",
   "name": "python",
   "nbconvert_exporter": "python",
   "pygments_lexer": "ipython3",
   "version": "3.9.13"
  }
 },
 "nbformat": 4,
 "nbformat_minor": 5
}
