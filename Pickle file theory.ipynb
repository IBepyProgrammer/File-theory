{
 "cells": [
  {
   "cell_type": "markdown",
   "id": "b0d65ca7",
   "metadata": {},
   "source": [
    "## We first import the pickle module in python."
   ]
  },
  {
   "cell_type": "code",
   "execution_count": 1,
   "id": "e8288658",
   "metadata": {},
   "outputs": [],
   "source": [
    "import pickle"
   ]
  },
  {
   "cell_type": "markdown",
   "id": "7bd4579b",
   "metadata": {},
   "source": [
    "* Let's then create a dictionary that we will be the object we will able to serialize using the pickle module.\n",
    "* We will then write to a pickle file."
   ]
  },
  {
   "cell_type": "code",
   "execution_count": 2,
   "id": "5dfe8302",
   "metadata": {},
   "outputs": [],
   "source": [
    "my_grocery = {\"apples\":5, \"bananas\":10, \"cabages\":3, \"mangoes\":7, \"tomatoes\":10}\n",
    "pickle.dump(my_grocery, open(\"grocery.plk\", \"wb\"))"
   ]
  },
  {
   "cell_type": "markdown",
   "id": "d544d37b",
   "metadata": {},
   "source": [
    "## We can then manage the data from the pickle file created named \"grocery.plk\".\n",
    "* We first load the data in the pickle file using the \"load\" function from the pickle module"
   ]
  },
  {
   "cell_type": "code",
   "execution_count": 4,
   "id": "bfe9ff68",
   "metadata": {},
   "outputs": [],
   "source": [
    "read_grocery = pickle.load(open(\"grocery.plk\", \"rb\"))"
   ]
  },
  {
   "cell_type": "code",
   "execution_count": 5,
   "id": "ba3177f2",
   "metadata": {},
   "outputs": [
    {
     "name": "stdout",
     "output_type": "stream",
     "text": [
      "{'apples': 5, 'bananas': 10, 'cabages': 3, 'mangoes': 7, 'tomatoes': 10}\n"
     ]
    }
   ],
   "source": [
    "print(read_grocery)"
   ]
  }
 ],
 "metadata": {
  "kernelspec": {
   "display_name": "Python 3 (ipykernel)",
   "language": "python",
   "name": "python3"
  },
  "language_info": {
   "codemirror_mode": {
    "name": "ipython",
    "version": 3
   },
   "file_extension": ".py",
   "mimetype": "text/x-python",
   "name": "python",
   "nbconvert_exporter": "python",
   "pygments_lexer": "ipython3",
   "version": "3.9.13"
  }
 },
 "nbformat": 4,
 "nbformat_minor": 5
}
