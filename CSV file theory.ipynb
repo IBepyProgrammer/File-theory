{
 "cells": [
  {
   "cell_type": "markdown",
   "id": "3151dc05",
   "metadata": {},
   "source": [
    "## Getting started with CSV files"
   ]
  },
  {
   "cell_type": "markdown",
   "id": "498d4d59",
   "metadata": {},
   "source": [
    "Let's start by generating data that contains 100 rows and 5 columns"
   ]
  },
  {
   "cell_type": "code",
   "execution_count": 3,
   "id": "f6df7206",
   "metadata": {},
   "outputs": [],
   "source": [
    "import numpy as np\n",
    "\n",
    "generated_data = np.random.random((100, 5))"
   ]
  },
  {
   "cell_type": "code",
   "execution_count": 4,
   "id": "24f175ef",
   "metadata": {},
   "outputs": [],
   "source": [
    "np.savetxt(\"table_data.csv\", generated_data, fmt=\"%2f\", delimiter=\",\", header = \"title1,title2, title3, title4, title5\")"
   ]
  },
  {
   "cell_type": "markdown",
   "id": "b0f13f90",
   "metadata": {},
   "source": [
    "## We can then read the csv file using the numpy library"
   ]
  },
  {
   "cell_type": "code",
   "execution_count": 5,
   "id": "32e19032",
   "metadata": {},
   "outputs": [
    {
     "data": {
      "text/plain": [
       "array([[0.187715, 0.964177, 0.586595, 0.528601, 0.604801],\n",
       "       [0.25055 , 0.556886, 0.579385, 0.397114, 0.931726],\n",
       "       [0.620738, 0.888732, 0.857945, 0.802169, 0.831343],\n",
       "       [0.816141, 0.514152, 0.420935, 0.251358, 0.308706],\n",
       "       [0.734329, 0.731976, 0.964509, 0.257839, 0.165012]])"
      ]
     },
     "execution_count": 5,
     "metadata": {},
     "output_type": "execute_result"
    }
   ],
   "source": [
    "read_file = np.loadtxt(\"table_data.csv\", delimiter=\",\")\n",
    "read_file[:5, :]"
   ]
  },
  {
   "cell_type": "markdown",
   "id": "ee1fee4f",
   "metadata": {},
   "source": [
    "### Note in the output above we output the first five rowsin the CSV file from the current working directory."
   ]
  }
 ],
 "metadata": {
  "kernelspec": {
   "display_name": "Python 3 (ipykernel)",
   "language": "python",
   "name": "python3"
  },
  "language_info": {
   "codemirror_mode": {
    "name": "ipython",
    "version": 3
   },
   "file_extension": ".py",
   "mimetype": "text/x-python",
   "name": "python",
   "nbconvert_exporter": "python",
   "pygments_lexer": "ipython3",
   "version": "3.9.13"
  }
 },
 "nbformat": 4,
 "nbformat_minor": 5
}
